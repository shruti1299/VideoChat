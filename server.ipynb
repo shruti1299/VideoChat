{
 "cells": [
  {
   "cell_type": "markdown",
   "metadata": {},
   "source": [
    "# Summer 2021 - Task 3\n"
   ]
  },
  {
   "cell_type": "markdown",
   "metadata": {},
   "source": [
    "# Task Description\n",
    "\n",
    "Create Live Streaming Video Chat App without voice using cv2 module of Python"
   ]
  },
  {
   "cell_type": "code",
   "execution_count": 1,
   "metadata": {},
   "outputs": [
    {
     "name": "stdout",
     "output_type": "stream",
     "text": [
      "HOST IP: 169.254.208.239\n",
      "b'connection establised'\n",
      "Entering to video mode\n"
     ]
    }
   ],
   "source": [
    "import cv2\n",
    "import socket\n",
    "import threading\n",
    "import numpy \n",
    "# tcp\n",
    "s = socket.socket(socket.AF_INET,socket.SOCK_STREAM)\n",
    "host_name  = socket.gethostname()\n",
    "host_ip = socket.gethostbyname(host_name)\n",
    "print('HOST IP:',host_ip)\n",
    "port = 5000\n",
    "socket_address = (host_ip,port)\n",
    "\n",
    "# Socket Bind\n",
    "s.bind(socket_address)\n",
    "\n",
    "# Socket Listen\n",
    "s.listen()\n",
    "\n",
    "c,addr = s.accept()\n",
    "print(c.recv(1024))\n",
    "# connecting camera ; '0' for internal camera ;\n",
    "cap = cv2.VideoCapture(0)\n",
    "\n",
    "def sending_data():\n",
    "    while True:\n",
    "        ret, photo = cap.read()\n",
    "        photo = cv2.resize(photo,(600,400))\n",
    "        \n",
    "        if ret:\n",
    "            # converting array to bytes and sending to client \n",
    "            c.send(numpy.ndarray.tobytes(photo))\n",
    "        else:\n",
    "            print(\"not connected\")\n",
    "            \n",
    "def recv_data():\n",
    "    print(\"Entering to video mode\")\n",
    "    while True:\n",
    "        rec_data = c.recv(100000000)\n",
    "        if (rec_data == b'stop'):\n",
    "            print(\"stopped\")\n",
    "            #camera release\n",
    "            cap.release()\n",
    "            # session closed\n",
    "            c.close()\n",
    "        else:\n",
    "            #frombuffer -> Interpret a buffer as a 1-dimensional array.\n",
    "            photo = numpy.frombuffer(rec_data, dtype=numpy.uint8)\n",
    "            #\n",
    "            if len(photo) == 600*400*3: # changing the array shape and getting the video\n",
    "                cv2.imshow('CLIENT', photo.reshape(400, 600, 3))\n",
    "                \n",
    "                if cv2.waitKey(1) == 13:\n",
    "                    c.send(b'stop')\n",
    "                    cap.release()\n",
    "                    cv2.destroyAllWindows()\n",
    "                    break    \n",
    "            \n",
    "a2 = threading.Thread(target=sending_data)\n",
    "a1 = threading.Thread(target=recv_data)\n",
    "a2.start()\n",
    "a1.start()\n",
    "\n",
    "        \n",
    "\n",
    "\n",
    "        "
   ]
  },
  {
   "cell_type": "code",
   "execution_count": null,
   "metadata": {},
   "outputs": [],
   "source": []
  }
 ],
 "metadata": {
  "kernelspec": {
   "display_name": "Python 3",
   "language": "python",
   "name": "python3"
  },
  "language_info": {
   "codemirror_mode": {
    "name": "ipython",
    "version": 3
   },
   "file_extension": ".py",
   "mimetype": "text/x-python",
   "name": "python",
   "nbconvert_exporter": "python",
   "pygments_lexer": "ipython3",
   "version": "3.8.5"
  }
 },
 "nbformat": 4,
 "nbformat_minor": 4
}
