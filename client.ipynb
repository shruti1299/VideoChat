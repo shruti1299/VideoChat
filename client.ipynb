{
 "cells": [
  {
   "cell_type": "markdown",
   "metadata": {},
   "source": [
    "# Client"
   ]
  },
  {
   "cell_type": "code",
   "execution_count": 1,
   "metadata": {},
   "outputs": [],
   "source": [
    "import cv2\n",
    "import socket\n",
    "import threading\n",
    "import numpy "
   ]
  },
  {
   "cell_type": "code",
   "execution_count": 2,
   "metadata": {},
   "outputs": [
    {
     "name": "stdout",
     "output_type": "stream",
     "text": [
      "Entering to video mode\n"
     ]
    }
   ],
   "source": [
    "# tcp\n",
    "s = socket.socket(socket.AF_INET,socket.SOCK_STREAM)\n",
    "host_ip = '169.254.208.239' # paste IP address here\n",
    "port = 5000\n",
    "s.connect((host_ip,port)) \n",
    "s.send(b\"connection establised\")\n",
    " \n",
    "# accessing phone app : url of IP Webcam Android App \n",
    "cap = cv2.VideoCapture(1)\n",
    "\n",
    "def recv_data():\n",
    "    print(\"Entering to video mode\")\n",
    "    while True:\n",
    "        data = s.recv(100000000)\n",
    "        if (data == b'stop'):\n",
    "            print(\"stopped\")\n",
    "            #camera release\n",
    "            cap.release()\n",
    "            # session closed\n",
    "            s.close()\n",
    "        else:\n",
    "            #frombuffer -> Interpret a buffer as a 1-dimensional array.\n",
    "            photo1 = numpy.frombuffer(data, dtype=numpy.uint8)\n",
    "           \n",
    "            if len(photo1) == 600*400*3: # changing the array shape and getting the video\n",
    "                cv2.imshow('SERVER', photo1.reshape(400, 600, 3))\n",
    "                if cv2.waitKey(1) == 13:\n",
    "                    s.send(b'stop')\n",
    "                    cap.release()\n",
    "                    cv2.destroyAllWindows()\n",
    "                    break\n",
    "def sending_data():\n",
    "    while True:\n",
    "        ret, photo = cap.read()\n",
    "        photo = cv2.resize(photo, (600,400))\n",
    "        \n",
    "        if ret:\n",
    "            # converting array to bytes\n",
    "            s.send(numpy.ndarray.tobytes(photo))\n",
    "        else:\n",
    "            print(\"not connected\")\n",
    "    cap.release()\n",
    "            \n",
    "a1 = threading.Thread(target=recv_data)\n",
    "a2 = threading.Thread(target=sending_data)\n",
    "a1.start()\n",
    "a2.start()"
   ]
  },
  {
   "cell_type": "code",
   "execution_count": null,
   "metadata": {},
   "outputs": [],
   "source": []
  }
 ],
 "metadata": {
  "kernelspec": {
   "display_name": "Python 3",
   "language": "python",
   "name": "python3"
  },
  "language_info": {
   "codemirror_mode": {
    "name": "ipython",
    "version": 3
   },
   "file_extension": ".py",
   "mimetype": "text/x-python",
   "name": "python",
   "nbconvert_exporter": "python",
   "pygments_lexer": "ipython3",
   "version": "3.8.5"
  }
 },
 "nbformat": 4,
 "nbformat_minor": 4
}
